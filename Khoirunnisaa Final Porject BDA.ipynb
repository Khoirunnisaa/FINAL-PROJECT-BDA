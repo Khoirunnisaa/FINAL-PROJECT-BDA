{
 "cells": [
  {
   "cell_type": "markdown",
   "metadata": {},
   "source": [
    "# FINAL PROJECT BIG DATA ANALYTICS DTS UNS\n",
    "## KLASIFIKASI INDEKS PEMBANGUNAN MANUSIA (IPM) INDONESIA PADA TAHUN 2018\n",
    "##### Sumber Data : Data dan Informasi Profil Kesehatan Indonesia (Kemenkes, 2018)"
   ]
  },
  {
   "cell_type": "code",
   "execution_count": 123,
   "metadata": {},
   "outputs": [],
   "source": [
    "import pandas as pd\n",
    "import numpy as np\n",
    "import matplotlib.pyplot as plt\n",
    "from sklearn.tree import DecisionTreeRegressor\n",
    "from sklearn.neighbors import KNeighborsClassifier\n",
    "from sklearn.linear_model import LogisticRegression"
   ]
  },
  {
   "cell_type": "code",
   "execution_count": 124,
   "metadata": {},
   "outputs": [
    {
     "data": {
      "text/html": [
       "<div>\n",
       "<style scoped>\n",
       "    .dataframe tbody tr th:only-of-type {\n",
       "        vertical-align: middle;\n",
       "    }\n",
       "\n",
       "    .dataframe tbody tr th {\n",
       "        vertical-align: top;\n",
       "    }\n",
       "\n",
       "    .dataframe thead th {\n",
       "        text-align: right;\n",
       "    }\n",
       "</style>\n",
       "<table border=\"1\" class=\"dataframe\">\n",
       "  <thead>\n",
       "    <tr style=\"text-align: right;\">\n",
       "      <th></th>\n",
       "      <th>Provinsi</th>\n",
       "      <th>AHH</th>\n",
       "      <th>HLS</th>\n",
       "      <th>RLS</th>\n",
       "      <th>PKD</th>\n",
       "      <th>IPM</th>\n",
       "      <th>Pertumbuhan</th>\n",
       "      <th>Klasifikasi</th>\n",
       "    </tr>\n",
       "  </thead>\n",
       "  <tbody>\n",
       "    <tr>\n",
       "      <td>0</td>\n",
       "      <td>Aceh</td>\n",
       "      <td>69.64</td>\n",
       "      <td>14.27</td>\n",
       "      <td>9.09</td>\n",
       "      <td>9186</td>\n",
       "      <td>71.19</td>\n",
       "      <td>0.84</td>\n",
       "      <td>tinggi</td>\n",
       "    </tr>\n",
       "    <tr>\n",
       "      <td>1</td>\n",
       "      <td>Sumatera Utara</td>\n",
       "      <td>68.61</td>\n",
       "      <td>13.14</td>\n",
       "      <td>9.34</td>\n",
       "      <td>10391</td>\n",
       "      <td>71.18</td>\n",
       "      <td>0.86</td>\n",
       "      <td>tinggi</td>\n",
       "    </tr>\n",
       "    <tr>\n",
       "      <td>2</td>\n",
       "      <td>Sumatera Barat</td>\n",
       "      <td>69.01</td>\n",
       "      <td>13.95</td>\n",
       "      <td>8.76</td>\n",
       "      <td>10638</td>\n",
       "      <td>71.73</td>\n",
       "      <td>0.69</td>\n",
       "      <td>tinggi</td>\n",
       "    </tr>\n",
       "    <tr>\n",
       "      <td>3</td>\n",
       "      <td>Riau</td>\n",
       "      <td>71.19</td>\n",
       "      <td>13.11</td>\n",
       "      <td>8.92</td>\n",
       "      <td>10968</td>\n",
       "      <td>72.44</td>\n",
       "      <td>0.91</td>\n",
       "      <td>tinggi</td>\n",
       "    </tr>\n",
       "    <tr>\n",
       "      <td>4</td>\n",
       "      <td>Jambi</td>\n",
       "      <td>70.89</td>\n",
       "      <td>12.90</td>\n",
       "      <td>8.23</td>\n",
       "      <td>10357</td>\n",
       "      <td>70.65</td>\n",
       "      <td>0.94</td>\n",
       "      <td>tinggi</td>\n",
       "    </tr>\n",
       "  </tbody>\n",
       "</table>\n",
       "</div>"
      ],
      "text/plain": [
       "          Provinsi    AHH    HLS   RLS    PKD    IPM  Pertumbuhan Klasifikasi\n",
       "0            Aceh   69.64  14.27  9.09   9186  71.19         0.84      tinggi\n",
       "1  Sumatera Utara   68.61  13.14  9.34  10391  71.18         0.86      tinggi\n",
       "2  Sumatera Barat   69.01  13.95  8.76  10638  71.73         0.69      tinggi\n",
       "3            Riau   71.19  13.11  8.92  10968  72.44         0.91      tinggi\n",
       "4           Jambi   70.89  12.90  8.23  10357  70.65         0.94      tinggi"
      ]
     },
     "execution_count": 124,
     "metadata": {},
     "output_type": "execute_result"
    }
   ],
   "source": [
    "df = pd.read_table('ipmtxt.txt')\n",
    "df.head()"
   ]
  },
  {
   "cell_type": "code",
   "execution_count": 125,
   "metadata": {},
   "outputs": [
    {
     "data": {
      "text/plain": [
       "(34, 8)"
      ]
     },
     "execution_count": 125,
     "metadata": {},
     "output_type": "execute_result"
    }
   ],
   "source": [
    "df.shape"
   ]
  },
  {
   "cell_type": "markdown",
   "metadata": {},
   "source": [
    "##### Statistik Deskriptif"
   ]
  },
  {
   "cell_type": "code",
   "execution_count": 126,
   "metadata": {},
   "outputs": [
    {
     "data": {
      "text/html": [
       "<div>\n",
       "<style scoped>\n",
       "    .dataframe tbody tr th:only-of-type {\n",
       "        vertical-align: middle;\n",
       "    }\n",
       "\n",
       "    .dataframe tbody tr th {\n",
       "        vertical-align: top;\n",
       "    }\n",
       "\n",
       "    .dataframe thead th {\n",
       "        text-align: right;\n",
       "    }\n",
       "</style>\n",
       "<table border=\"1\" class=\"dataframe\">\n",
       "  <thead>\n",
       "    <tr style=\"text-align: right;\">\n",
       "      <th></th>\n",
       "      <th>AHH</th>\n",
       "      <th>HLS</th>\n",
       "      <th>RLS</th>\n",
       "      <th>PKD</th>\n",
       "      <th>IPM</th>\n",
       "      <th>Pertumbuhan</th>\n",
       "    </tr>\n",
       "  </thead>\n",
       "  <tbody>\n",
       "    <tr>\n",
       "      <td>count</td>\n",
       "      <td>34.000000</td>\n",
       "      <td>34.000000</td>\n",
       "      <td>34.000000</td>\n",
       "      <td>34.000000</td>\n",
       "      <td>34.000000</td>\n",
       "      <td>34.000000</td>\n",
       "    </tr>\n",
       "    <tr>\n",
       "      <td>mean</td>\n",
       "      <td>69.621765</td>\n",
       "      <td>13.036471</td>\n",
       "      <td>8.371765</td>\n",
       "      <td>10622.911765</td>\n",
       "      <td>70.386471</td>\n",
       "      <td>0.937941</td>\n",
       "    </tr>\n",
       "    <tr>\n",
       "      <td>std</td>\n",
       "      <td>2.611187</td>\n",
       "      <td>0.778748</td>\n",
       "      <td>0.953308</td>\n",
       "      <td>2167.455922</td>\n",
       "      <td>3.994151</td>\n",
       "      <td>0.256158</td>\n",
       "    </tr>\n",
       "    <tr>\n",
       "      <td>min</td>\n",
       "      <td>64.580000</td>\n",
       "      <td>10.830000</td>\n",
       "      <td>6.520000</td>\n",
       "      <td>7159.000000</td>\n",
       "      <td>60.060000</td>\n",
       "      <td>0.510000</td>\n",
       "    </tr>\n",
       "    <tr>\n",
       "      <td>25%</td>\n",
       "      <td>67.907500</td>\n",
       "      <td>12.595000</td>\n",
       "      <td>7.580000</td>\n",
       "      <td>9205.000000</td>\n",
       "      <td>68.872500</td>\n",
       "      <td>0.777500</td>\n",
       "    </tr>\n",
       "    <tr>\n",
       "      <td>50%</td>\n",
       "      <td>69.640000</td>\n",
       "      <td>12.990000</td>\n",
       "      <td>8.445000</td>\n",
       "      <td>10514.500000</td>\n",
       "      <td>70.645000</td>\n",
       "      <td>0.905000</td>\n",
       "    </tr>\n",
       "    <tr>\n",
       "      <td>75%</td>\n",
       "      <td>71.135000</td>\n",
       "      <td>13.437500</td>\n",
       "      <td>8.907500</td>\n",
       "      <td>11277.000000</td>\n",
       "      <td>71.622500</td>\n",
       "      <td>1.040000</td>\n",
       "    </tr>\n",
       "    <tr>\n",
       "      <td>max</td>\n",
       "      <td>74.820000</td>\n",
       "      <td>15.560000</td>\n",
       "      <td>11.050000</td>\n",
       "      <td>18128.000000</td>\n",
       "      <td>80.470000</td>\n",
       "      <td>1.700000</td>\n",
       "    </tr>\n",
       "  </tbody>\n",
       "</table>\n",
       "</div>"
      ],
      "text/plain": [
       "             AHH        HLS        RLS           PKD        IPM  Pertumbuhan\n",
       "count  34.000000  34.000000  34.000000     34.000000  34.000000    34.000000\n",
       "mean   69.621765  13.036471   8.371765  10622.911765  70.386471     0.937941\n",
       "std     2.611187   0.778748   0.953308   2167.455922   3.994151     0.256158\n",
       "min    64.580000  10.830000   6.520000   7159.000000  60.060000     0.510000\n",
       "25%    67.907500  12.595000   7.580000   9205.000000  68.872500     0.777500\n",
       "50%    69.640000  12.990000   8.445000  10514.500000  70.645000     0.905000\n",
       "75%    71.135000  13.437500   8.907500  11277.000000  71.622500     1.040000\n",
       "max    74.820000  15.560000  11.050000  18128.000000  80.470000     1.700000"
      ]
     },
     "execution_count": 126,
     "metadata": {},
     "output_type": "execute_result"
    }
   ],
   "source": [
    "# summarize the data\n",
    "df.describe()"
   ]
  },
  {
   "cell_type": "markdown",
   "metadata": {},
   "source": [
    "dari data tersebut diperoleh rata-rata angka harapan hidup 69.62, harapan rata2 lama sekolah 13.03, rata2 lama sekolah 8.37, pengeluaran per kapita perdaerah 10.622, dan rata2 IPM 70.38"
   ]
  },
  {
   "cell_type": "code",
   "execution_count": 185,
   "metadata": {},
   "outputs": [
    {
     "data": {
      "text/html": [
       "<div>\n",
       "<style scoped>\n",
       "    .dataframe tbody tr th:only-of-type {\n",
       "        vertical-align: middle;\n",
       "    }\n",
       "\n",
       "    .dataframe tbody tr th {\n",
       "        vertical-align: top;\n",
       "    }\n",
       "\n",
       "    .dataframe thead th {\n",
       "        text-align: right;\n",
       "    }\n",
       "</style>\n",
       "<table border=\"1\" class=\"dataframe\">\n",
       "  <thead>\n",
       "    <tr style=\"text-align: right;\">\n",
       "      <th></th>\n",
       "      <th>Provinsi</th>\n",
       "      <th>AHH</th>\n",
       "      <th>RLS</th>\n",
       "      <th>PKD</th>\n",
       "      <th>IPM</th>\n",
       "    </tr>\n",
       "  </thead>\n",
       "  <tbody>\n",
       "    <tr>\n",
       "      <td>0</td>\n",
       "      <td>Aceh</td>\n",
       "      <td>69.64</td>\n",
       "      <td>9.09</td>\n",
       "      <td>9186</td>\n",
       "      <td>71.19</td>\n",
       "    </tr>\n",
       "    <tr>\n",
       "      <td>1</td>\n",
       "      <td>Sumatera Utara</td>\n",
       "      <td>68.61</td>\n",
       "      <td>9.34</td>\n",
       "      <td>10391</td>\n",
       "      <td>71.18</td>\n",
       "    </tr>\n",
       "    <tr>\n",
       "      <td>2</td>\n",
       "      <td>Sumatera Barat</td>\n",
       "      <td>69.01</td>\n",
       "      <td>8.76</td>\n",
       "      <td>10638</td>\n",
       "      <td>71.73</td>\n",
       "    </tr>\n",
       "    <tr>\n",
       "      <td>3</td>\n",
       "      <td>Riau</td>\n",
       "      <td>71.19</td>\n",
       "      <td>8.92</td>\n",
       "      <td>10968</td>\n",
       "      <td>72.44</td>\n",
       "    </tr>\n",
       "    <tr>\n",
       "      <td>4</td>\n",
       "      <td>Jambi</td>\n",
       "      <td>70.89</td>\n",
       "      <td>8.23</td>\n",
       "      <td>10357</td>\n",
       "      <td>70.65</td>\n",
       "    </tr>\n",
       "    <tr>\n",
       "      <td>5</td>\n",
       "      <td>Sumatera Selatan</td>\n",
       "      <td>69.41</td>\n",
       "      <td>8.00</td>\n",
       "      <td>10652</td>\n",
       "      <td>69.39</td>\n",
       "    </tr>\n",
       "    <tr>\n",
       "      <td>6</td>\n",
       "      <td>Bengkulu</td>\n",
       "      <td>68.84</td>\n",
       "      <td>8.61</td>\n",
       "      <td>10162</td>\n",
       "      <td>70.64</td>\n",
       "    </tr>\n",
       "    <tr>\n",
       "      <td>7</td>\n",
       "      <td>Lampung</td>\n",
       "      <td>70.18</td>\n",
       "      <td>7.82</td>\n",
       "      <td>9858</td>\n",
       "      <td>69.02</td>\n",
       "    </tr>\n",
       "    <tr>\n",
       "      <td>8</td>\n",
       "      <td>Kepulauan Bangka Belitung</td>\n",
       "      <td>70.18</td>\n",
       "      <td>7.84</td>\n",
       "      <td>12666</td>\n",
       "      <td>70.67</td>\n",
       "    </tr>\n",
       "    <tr>\n",
       "      <td>9</td>\n",
       "      <td>Kepulauan Riau</td>\n",
       "      <td>69.64</td>\n",
       "      <td>9.81</td>\n",
       "      <td>13976</td>\n",
       "      <td>74.84</td>\n",
       "    </tr>\n",
       "    <tr>\n",
       "      <td>10</td>\n",
       "      <td>DKI Jakarta</td>\n",
       "      <td>72.67</td>\n",
       "      <td>11.05</td>\n",
       "      <td>18128</td>\n",
       "      <td>80.47</td>\n",
       "    </tr>\n",
       "    <tr>\n",
       "      <td>11</td>\n",
       "      <td>Jawa Barat</td>\n",
       "      <td>72.66</td>\n",
       "      <td>8.15</td>\n",
       "      <td>10790</td>\n",
       "      <td>71.30</td>\n",
       "    </tr>\n",
       "    <tr>\n",
       "      <td>12</td>\n",
       "      <td>Jawa Tengah</td>\n",
       "      <td>74.18</td>\n",
       "      <td>7.35</td>\n",
       "      <td>10777</td>\n",
       "      <td>71.12</td>\n",
       "    </tr>\n",
       "    <tr>\n",
       "      <td>13</td>\n",
       "      <td>DI Yogyakarta</td>\n",
       "      <td>74.82</td>\n",
       "      <td>9.32</td>\n",
       "      <td>13946</td>\n",
       "      <td>79.53</td>\n",
       "    </tr>\n",
       "    <tr>\n",
       "      <td>14</td>\n",
       "      <td>Jawa Timur</td>\n",
       "      <td>70.97</td>\n",
       "      <td>7.39</td>\n",
       "      <td>11380</td>\n",
       "      <td>70.77</td>\n",
       "    </tr>\n",
       "    <tr>\n",
       "      <td>15</td>\n",
       "      <td>Banten</td>\n",
       "      <td>69.64</td>\n",
       "      <td>8.62</td>\n",
       "      <td>11994</td>\n",
       "      <td>71.95</td>\n",
       "    </tr>\n",
       "    <tr>\n",
       "      <td>16</td>\n",
       "      <td>Bali</td>\n",
       "      <td>71.68</td>\n",
       "      <td>8.65</td>\n",
       "      <td>13886</td>\n",
       "      <td>74.77</td>\n",
       "    </tr>\n",
       "    <tr>\n",
       "      <td>17</td>\n",
       "      <td>Nusa Tenggara Barat</td>\n",
       "      <td>65.87</td>\n",
       "      <td>7.03</td>\n",
       "      <td>10284</td>\n",
       "      <td>67.30</td>\n",
       "    </tr>\n",
       "    <tr>\n",
       "      <td>18</td>\n",
       "      <td>Nusa Tenggara Timur</td>\n",
       "      <td>66.38</td>\n",
       "      <td>7.30</td>\n",
       "      <td>7566</td>\n",
       "      <td>64.39</td>\n",
       "    </tr>\n",
       "    <tr>\n",
       "      <td>19</td>\n",
       "      <td>Kalimantan Barat</td>\n",
       "      <td>70.18</td>\n",
       "      <td>7.12</td>\n",
       "      <td>8860</td>\n",
       "      <td>66.98</td>\n",
       "    </tr>\n",
       "    <tr>\n",
       "      <td>20</td>\n",
       "      <td>Kalimantan Tengah</td>\n",
       "      <td>69.64</td>\n",
       "      <td>8.37</td>\n",
       "      <td>10931</td>\n",
       "      <td>70.42</td>\n",
       "    </tr>\n",
       "    <tr>\n",
       "      <td>21</td>\n",
       "      <td>Kalimantan Selatan</td>\n",
       "      <td>68.23</td>\n",
       "      <td>8.00</td>\n",
       "      <td>12062</td>\n",
       "      <td>70.17</td>\n",
       "    </tr>\n",
       "    <tr>\n",
       "      <td>22</td>\n",
       "      <td>Kalimantan Timur</td>\n",
       "      <td>73.96</td>\n",
       "      <td>9.48</td>\n",
       "      <td>11917</td>\n",
       "      <td>75.83</td>\n",
       "    </tr>\n",
       "    <tr>\n",
       "      <td>23</td>\n",
       "      <td>Kalimantan Utara</td>\n",
       "      <td>72.50</td>\n",
       "      <td>8.87</td>\n",
       "      <td>8943</td>\n",
       "      <td>70.56</td>\n",
       "    </tr>\n",
       "    <tr>\n",
       "      <td>24</td>\n",
       "      <td>Sulawesi Utara</td>\n",
       "      <td>71.26</td>\n",
       "      <td>9.24</td>\n",
       "      <td>10731</td>\n",
       "      <td>72.20</td>\n",
       "    </tr>\n",
       "    <tr>\n",
       "      <td>25</td>\n",
       "      <td>Sulawesi Tengah</td>\n",
       "      <td>67.78</td>\n",
       "      <td>8.52</td>\n",
       "      <td>9488</td>\n",
       "      <td>68.88</td>\n",
       "    </tr>\n",
       "    <tr>\n",
       "      <td>26</td>\n",
       "      <td>Sulawesi Selatan</td>\n",
       "      <td>70.08</td>\n",
       "      <td>8.02</td>\n",
       "      <td>10814</td>\n",
       "      <td>70.90</td>\n",
       "    </tr>\n",
       "    <tr>\n",
       "      <td>27</td>\n",
       "      <td>Sulawesi Tenggara</td>\n",
       "      <td>70.72</td>\n",
       "      <td>8.69</td>\n",
       "      <td>9262</td>\n",
       "      <td>70.61</td>\n",
       "    </tr>\n",
       "    <tr>\n",
       "      <td>28</td>\n",
       "      <td>Gorontalo</td>\n",
       "      <td>67.45</td>\n",
       "      <td>7.46</td>\n",
       "      <td>9839</td>\n",
       "      <td>67.71</td>\n",
       "    </tr>\n",
       "    <tr>\n",
       "      <td>29</td>\n",
       "      <td>Sulawesi Barat</td>\n",
       "      <td>64.58</td>\n",
       "      <td>7.50</td>\n",
       "      <td>9051</td>\n",
       "      <td>65.10</td>\n",
       "    </tr>\n",
       "    <tr>\n",
       "      <td>30</td>\n",
       "      <td>Maluku</td>\n",
       "      <td>65.59</td>\n",
       "      <td>9.58</td>\n",
       "      <td>8721</td>\n",
       "      <td>68.87</td>\n",
       "    </tr>\n",
       "    <tr>\n",
       "      <td>31</td>\n",
       "      <td>Maluku Utara</td>\n",
       "      <td>67.80</td>\n",
       "      <td>8.72</td>\n",
       "      <td>7980</td>\n",
       "      <td>67.76</td>\n",
       "    </tr>\n",
       "    <tr>\n",
       "      <td>32</td>\n",
       "      <td>Papua Barat</td>\n",
       "      <td>65.55</td>\n",
       "      <td>7.27</td>\n",
       "      <td>7816</td>\n",
       "      <td>63.74</td>\n",
       "    </tr>\n",
       "    <tr>\n",
       "      <td>33</td>\n",
       "      <td>Papua</td>\n",
       "      <td>65.36</td>\n",
       "      <td>6.52</td>\n",
       "      <td>7159</td>\n",
       "      <td>60.06</td>\n",
       "    </tr>\n",
       "  </tbody>\n",
       "</table>\n",
       "</div>"
      ],
      "text/plain": [
       "                      Provinsi    AHH    RLS    PKD    IPM\n",
       "0                        Aceh   69.64   9.09   9186  71.19\n",
       "1              Sumatera Utara   68.61   9.34  10391  71.18\n",
       "2              Sumatera Barat   69.01   8.76  10638  71.73\n",
       "3                        Riau   71.19   8.92  10968  72.44\n",
       "4                       Jambi   70.89   8.23  10357  70.65\n",
       "5            Sumatera Selatan   69.41   8.00  10652  69.39\n",
       "6                    Bengkulu   68.84   8.61  10162  70.64\n",
       "7                     Lampung   70.18   7.82   9858  69.02\n",
       "8   Kepulauan Bangka Belitung   70.18   7.84  12666  70.67\n",
       "9              Kepulauan Riau   69.64   9.81  13976  74.84\n",
       "10                DKI Jakarta   72.67  11.05  18128  80.47\n",
       "11                 Jawa Barat   72.66   8.15  10790  71.30\n",
       "12                Jawa Tengah   74.18   7.35  10777  71.12\n",
       "13              DI Yogyakarta   74.82   9.32  13946  79.53\n",
       "14                 Jawa Timur   70.97   7.39  11380  70.77\n",
       "15                     Banten   69.64   8.62  11994  71.95\n",
       "16                       Bali   71.68   8.65  13886  74.77\n",
       "17        Nusa Tenggara Barat   65.87   7.03  10284  67.30\n",
       "18        Nusa Tenggara Timur   66.38   7.30   7566  64.39\n",
       "19           Kalimantan Barat   70.18   7.12   8860  66.98\n",
       "20          Kalimantan Tengah   69.64   8.37  10931  70.42\n",
       "21         Kalimantan Selatan   68.23   8.00  12062  70.17\n",
       "22           Kalimantan Timur   73.96   9.48  11917  75.83\n",
       "23           Kalimantan Utara   72.50   8.87   8943  70.56\n",
       "24             Sulawesi Utara   71.26   9.24  10731  72.20\n",
       "25            Sulawesi Tengah   67.78   8.52   9488  68.88\n",
       "26           Sulawesi Selatan   70.08   8.02  10814  70.90\n",
       "27          Sulawesi Tenggara   70.72   8.69   9262  70.61\n",
       "28                  Gorontalo   67.45   7.46   9839  67.71\n",
       "29             Sulawesi Barat   64.58   7.50   9051  65.10\n",
       "30                     Maluku   65.59   9.58   8721  68.87\n",
       "31               Maluku Utara   67.80   8.72   7980  67.76\n",
       "32                Papua Barat   65.55   7.27   7816  63.74\n",
       "33                      Papua   65.36   6.52   7159  60.06"
      ]
     },
     "execution_count": 185,
     "metadata": {},
     "output_type": "execute_result"
    }
   ],
   "source": [
    "cdf = df[['Provinsi','AHH','RLS','PKD','IPM']]\n",
    "cdf.head(34)"
   ]
  },
  {
   "cell_type": "code",
   "execution_count": 186,
   "metadata": {},
   "outputs": [
    {
     "data": {
      "image/png": "[encoded data removed]",
      "text/plain": [
       "<Figure size 648x648 with 6 Axes>"
      ]
     },
     "metadata": {
      "needs_background": "light"
     },
     "output_type": "display_data"
    }
   ],
   "source": [
    "import pylab as pl\n",
    "df.drop('Provinsi' ,axis=1).hist(bins=30, figsize=(9,9))\n",
    "pl.suptitle(\"Histogram for each numeric input variable\")\n",
    "plt.savefig('provinsi_hist')\n",
    "plt.show()"
   ]
  },
  {
   "cell_type": "code",
   "execution_count": 158,
   "metadata": {},
   "outputs": [
    {
     "data": {
      "image/png": "[encoded data removed]",
      "text/plain": [
       "<Figure size 432x288 with 1 Axes>"
      ]
     },
     "metadata": {
      "needs_background": "light"
     },
     "output_type": "display_data"
    }
   ],
   "source": [
    "plt.scatter(cdf.AHH, cdf.IPM,  color='red')\n",
    "plt.xlabel(\"Angka Harapan Hidup\")\n",
    "plt.ylabel(\"Indeks Pembangunan Manusia\")\n",
    "plt.show()"
   ]
  },
  {
   "cell_type": "code",
   "execution_count": 157,
   "metadata": {},
   "outputs": [
    {
     "data": {
      "image/png": "[encoded data removed]",
      "text/plain": [
       "<Figure size 432x288 with 1 Axes>"
      ]
     },
     "metadata": {
      "needs_background": "light"
     },
     "output_type": "display_data"
    }
   ],
   "source": [
    "plt.scatter(cdf.RLS, cdf.IPM,  color='green')\n",
    "plt.xlabel(\"Rata-rata Lama Sekolah\")\n",
    "plt.ylabel(\"Indeks Pembangunan Manusia\")\n",
    "plt.show()"
   ]
  },
  {
   "cell_type": "code",
   "execution_count": 159,
   "metadata": {},
   "outputs": [
    {
     "data": {
      "image/png": "[encoded data removed]",
      "text/plain": [
       "<Figure size 432x288 with 1 Axes>"
      ]
     },
     "metadata": {
      "needs_background": "light"
     },
     "output_type": "display_data"
    }
   ],
   "source": [
    "plt.scatter(df.PKD, df.IPM,  color='blue')\n",
    "plt.xlabel(\"Pengeluaran per Kapita per Daerah\")\n",
    "plt.ylabel(\"Indeks Pembangunan Manusia\")\n",
    "plt.show()"
   ]
  },
  {
   "cell_type": "code",
   "execution_count": 160,
   "metadata": {},
   "outputs": [
    {
     "data": {
      "image/png": "[encoded data removed]",
      "text/plain": [
       "<Figure size 1080x1080 with 2 Axes>"
      ]
     },
     "metadata": {
      "needs_background": "light"
     },
     "output_type": "display_data"
    }
   ],
   "source": [
    "import seaborn as sns\n",
    "\n",
    "plt.figure(figsize=(15,15))\n",
    "corr = df.corr()\n",
    "ax = sns.heatmap(\n",
    "    corr, \n",
    "    vmin=-1, vmax=1, center=0,\n",
    "    cmap=sns.diverging_palette(20, 220, n=200),\n",
    "    square=True, annot=True\n",
    ")\n",
    "ax.set_xticklabels(\n",
    "    ax.get_xticklabels(),\n",
    "    rotation=45,\n",
    "    horizontalalignment='right'\n",
    ");"
   ]
  },
  {
   "cell_type": "markdown",
   "metadata": {},
   "source": [
    "##### Regresi"
   ]
  },
  {
   "cell_type": "code",
   "execution_count": 201,
   "metadata": {},
   "outputs": [],
   "source": [
    "msk = np.random.rand(len(df)) < 0.8\n",
    "train = cdf[msk]\n",
    "test = cdf[~msk]"
   ]
  },
  {
   "cell_type": "code",
   "execution_count": 202,
   "metadata": {},
   "outputs": [
    {
     "name": "stdout",
     "output_type": "stream",
     "text": [
      "Coefficients:  [[1.26801773]]\n",
      "Intercept:  [-17.82839936]\n"
     ]
    }
   ],
   "source": [
    "from sklearn import linear_model\n",
    "regr = linear_model.LinearRegression()\n",
    "train_x = np.asanyarray(train[['AHH']])\n",
    "train_y = np.asanyarray(train[['IPM']])\n",
    "regr.fit (train_x, train_y)\n",
    "# The coefficients\n",
    "print ('Coefficients: ', regr.coef_)\n",
    "print ('Intercept: ', regr.intercept_)"
   ]
  },
  {
   "cell_type": "code",
   "execution_count": 203,
   "metadata": {},
   "outputs": [
    {
     "name": "stdout",
     "output_type": "stream",
     "text": [
      "Coefficients:  [[3.35238049]]\n",
      "Intercept:  [42.42522226]\n"
     ]
    }
   ],
   "source": [
    "from sklearn import linear_model\n",
    "regr = linear_model.LinearRegression()\n",
    "train_x = np.asanyarray(train[['RLS']])\n",
    "train_y = np.asanyarray(train[['IPM']])\n",
    "regr.fit (train_x, train_y)\n",
    "# The coefficients\n",
    "print ('Coefficients: ', regr.coef_)\n",
    "print ('Intercept: ', regr.intercept_)"
   ]
  },
  {
   "cell_type": "code",
   "execution_count": 206,
   "metadata": {},
   "outputs": [
    {
     "data": {
      "text/plain": [
       "Text(0, 0.5, 'Indeks Pembangunan Manusia')"
      ]
     },
     "execution_count": 206,
     "metadata": {},
     "output_type": "execute_result"
    },
    {
     "data": {
      "image/png": "[encoded data removed]",
      "text/plain": [
       "<Figure size 432x288 with 1 Axes>"
      ]
     },
     "metadata": {
      "needs_background": "light"
     },
     "output_type": "display_data"
    }
   ],
   "source": [
    "#Mengeplot hasil regresi\n",
    "plt.scatter(train.RLS, train.IPM,  color='blue')\n",
    "plt.plot(train_x, regr.coef_[0][0]*train_x + regr.intercept_[0], '-r')\n",
    "plt.xlabel(\"Rata-rata Lama Sekolah\")\n",
    "plt.ylabel(\"Indeks Pembangunan Manusia\")"
   ]
  },
  {
   "cell_type": "code",
   "execution_count": 207,
   "metadata": {},
   "outputs": [
    {
     "data": {
      "text/plain": [
       "Text(0, 0.5, 'Indeks Pembangunan Manusia')"
      ]
     },
     "execution_count": 207,
     "metadata": {},
     "output_type": "execute_result"
    },
    {
     "data": {
      "image/png": "[encoded data removed]",
      "text/plain": [
       "<Figure size 432x288 with 1 Axes>"
      ]
     },
     "metadata": {
      "needs_background": "light"
     },
     "output_type": "display_data"
    }
   ],
   "source": [
    "#Mengeplot hasil regresi\n",
    "plt.scatter(train.AHH, train.IPM,  color='blue')\n",
    "plt.plot(train_x, regr.coef_[0][0]*train_x + regr.intercept_[0], '-r')\n",
    "plt.xlabel(\"Angka Harapan Hidup\")\n",
    "plt.ylabel(\"Indeks Pembangunan Manusia\")"
   ]
  },
  {
   "cell_type": "code",
   "execution_count": 209,
   "metadata": {},
   "outputs": [
    {
     "name": "stdout",
     "output_type": "stream",
     "text": [
      "Mean absolute error: 265.15\n",
      "Residual sum of squares (MSE): 70377.61\n",
      "R2-score: -871.02\n"
     ]
    }
   ],
   "source": [
    "from sklearn.metrics import r2_score\n",
    "\n",
    "test_x = np.asanyarray(test[['AHH']])\n",
    "test_y = np.asanyarray(test[['RLS']])\n",
    "test_y_ = regr.predict(test_x)\n",
    "\n",
    "print(\"Mean absolute error: %.2f\" % np.mean(np.absolute(test_y_ - test_y)))\n",
    "print(\"Residual sum of squares (MSE): %.2f\" % np.mean((test_y_ - test_y) ** 2))\n",
    "print(\"R2-score: %.2f\" % r2_score(test_y_ , test_y))"
   ]
  },
  {
   "cell_type": "markdown",
   "metadata": {},
   "source": [
    "##### Klasifikasi"
   ]
  },
  {
   "cell_type": "code",
   "execution_count": 210,
   "metadata": {},
   "outputs": [
    {
     "name": "stdout",
     "output_type": "stream",
     "text": [
      "(34, 8)\n",
      "['Aceh ' 'Sumatera Utara ' 'Sumatera Barat ' 'Riau ' 'Jambi '\n",
      " 'Sumatera Selatan ' 'Bengkulu ' 'Lampung ' 'Kepulauan Bangka Belitung '\n",
      " 'Kepulauan Riau ' 'DKI Jakarta ' 'Jawa Barat ' 'Jawa Tengah '\n",
      " 'DI Yogyakarta ' 'Jawa Timur ' 'Banten ' 'Bali ' 'Nusa Tenggara Barat '\n",
      " 'Nusa Tenggara Timur ' 'Kalimantan Barat ' 'Kalimantan Tengah '\n",
      " 'Kalimantan Selatan ' 'Kalimantan Timur ' 'Kalimantan Utara '\n",
      " 'Sulawesi Utara ' 'Sulawesi Tengah ' 'Sulawesi Selatan '\n",
      " 'Sulawesi Tenggara ' 'Gorontalo ' 'Sulawesi Barat ' 'Maluku '\n",
      " 'Maluku Utara ' 'Papua Barat ' 'Papua ']\n",
      "Provinsi\n",
      "Aceh                          1\n",
      "Bali                          1\n",
      "Banten                        1\n",
      "Bengkulu                      1\n",
      "DI Yogyakarta                 1\n",
      "DKI Jakarta                   1\n",
      "Gorontalo                     1\n",
      "Jambi                         1\n",
      "Jawa Barat                    1\n",
      "Jawa Tengah                   1\n",
      "Jawa Timur                    1\n",
      "Kalimantan Barat              1\n",
      "Kalimantan Selatan            1\n",
      "Kalimantan Tengah             1\n",
      "Kalimantan Timur              1\n",
      "Kalimantan Utara              1\n",
      "Kepulauan Bangka Belitung     1\n",
      "Kepulauan Riau                1\n",
      "Lampung                       1\n",
      "Maluku                        1\n",
      "Maluku Utara                  1\n",
      "Nusa Tenggara Barat           1\n",
      "Nusa Tenggara Timur           1\n",
      "Papua                         1\n",
      "Papua Barat                   1\n",
      "Riau                          1\n",
      "Sulawesi Barat                1\n",
      "Sulawesi Selatan              1\n",
      "Sulawesi Tengah               1\n",
      "Sulawesi Tenggara             1\n",
      "Sulawesi Utara                1\n",
      "Sumatera Barat                1\n",
      "Sumatera Selatan              1\n",
      "Sumatera Utara                1\n",
      "dtype: int64\n"
     ]
    }
   ],
   "source": [
    "print(df.shape)\n",
    "\n",
    "print(df['Provinsi'].unique())\n",
    "\n",
    "print(df.groupby('Provinsi').size())"
   ]
  },
  {
   "cell_type": "code",
   "execution_count": 211,
   "metadata": {},
   "outputs": [
    {
     "name": "stdout",
     "output_type": "stream",
     "text": [
      "(34, 8)\n",
      "['Aceh ' 'Sumatera Utara ' 'Sumatera Barat ' 'Riau ' 'Jambi '\n",
      " 'Sumatera Selatan ' 'Bengkulu ' 'Lampung ' 'Kepulauan Bangka Belitung '\n",
      " 'Kepulauan Riau ' 'DKI Jakarta ' 'Jawa Barat ' 'Jawa Tengah '\n",
      " 'DI Yogyakarta ' 'Jawa Timur ' 'Banten ' 'Bali ' 'Nusa Tenggara Barat '\n",
      " 'Nusa Tenggara Timur ' 'Kalimantan Barat ' 'Kalimantan Tengah '\n",
      " 'Kalimantan Selatan ' 'Kalimantan Timur ' 'Kalimantan Utara '\n",
      " 'Sulawesi Utara ' 'Sulawesi Tengah ' 'Sulawesi Selatan '\n",
      " 'Sulawesi Tenggara ' 'Gorontalo ' 'Sulawesi Barat ' 'Maluku '\n",
      " 'Maluku Utara ' 'Papua Barat ' 'Papua ']\n",
      "Klasifikasi\n",
      "sangat tinggi     1\n",
      "sedang           12\n",
      "tinggi           21\n",
      "dtype: int64\n"
     ]
    }
   ],
   "source": [
    "print(df.shape)\n",
    "\n",
    "print(df['Provinsi'].unique())\n",
    "\n",
    "print(df.groupby('Klasifikasi').size())"
   ]
  },
  {
   "cell_type": "code",
   "execution_count": 212,
   "metadata": {},
   "outputs": [
    {
     "data": {
      "image/png": "[encoded data removed]",
      "text/plain": [
       "<Figure size 432x288 with 1 Axes>"
      ]
     },
     "metadata": {
      "needs_background": "light"
     },
     "output_type": "display_data"
    }
   ],
   "source": [
    "import seaborn as sns\n",
    "sns.countplot(df['Klasifikasi'],label=\"count\")\n",
    "plt.show()"
   ]
  },
  {
   "cell_type": "code",
   "execution_count": 143,
   "metadata": {},
   "outputs": [
    {
     "ename": "TypeError",
     "evalue": "'numpy.ndarray' object is not callable",
     "output_type": "error",
     "traceback": [
      "\u001b[1;31m---------------------------------------------------------------------------\u001b[0m",
      "\u001b[1;31mTypeError\u001b[0m                                 Traceback (most recent call last)",
      "\u001b[1;32m<ipython-input-143-90335b405f22>\u001b[0m in \u001b[0;36m<module>\u001b[1;34m\u001b[0m\n\u001b[1;32m----> 1\u001b[1;33m \u001b[0mplt\u001b[0m\u001b[1;33m.\u001b[0m\u001b[0mpie\u001b[0m\u001b[1;33m(\u001b[0m\u001b[0mdf\u001b[0m\u001b[1;33m.\u001b[0m\u001b[0mvalues\u001b[0m\u001b[1;33m(\u001b[0m\u001b[1;33m)\u001b[0m\u001b[1;33m,\u001b[0m \u001b[0mautopct\u001b[0m \u001b[1;33m=\u001b[0m \u001b[1;34m'%1.0f%%'\u001b[0m\u001b[1;33m,\u001b[0m \u001b[0mlabels\u001b[0m \u001b[1;33m=\u001b[0m \u001b[0mdf\u001b[0m\u001b[1;33m)\u001b[0m\u001b[1;33m\u001b[0m\u001b[1;33m\u001b[0m\u001b[0m\n\u001b[0m\u001b[0;32m      2\u001b[0m \u001b[0mplt\u001b[0m\u001b[1;33m.\u001b[0m\u001b[0mshow\u001b[0m\u001b[1;33m(\u001b[0m\u001b[1;33m)\u001b[0m\u001b[1;33m\u001b[0m\u001b[1;33m\u001b[0m\u001b[0m\n",
      "\u001b[1;31mTypeError\u001b[0m: 'numpy.ndarray' object is not callable"
     ]
    }
   ],
   "source": [
    "plt.pie(df.values(), autopct = '%1.0f%%', labels = df)\n",
    "plt.show()"
   ]
  },
  {
   "cell_type": "code",
   "execution_count": 144,
   "metadata": {},
   "outputs": [
    {
     "data": {
      "image/png": "[encoded data removed]",
      "text/plain": [
       "<Figure size 648x648 with 4 Axes>"
      ]
     },
     "metadata": {
      "needs_background": "light"
     },
     "output_type": "display_data"
    }
   ],
   "source": [
    "from pandas.plotting import scatter_matrix #aslinya: pandas.tools.plotting\n",
    "from matplotlib import cm\n",
    "feature_names = ['AHH', 'RLS']\n",
    "x = df[feature_names]\n",
    "y = df['IPM']\n",
    "cmap = cm.get_cmap('gnuplot')\n",
    "scatter = scatter_matrix(X, c = y, marker = 'o', s=40, hist_kwds={'bins':15}, figsize=(9,9), cmap = cmap)\n",
    "plt.suptitle('Scatter-matrix for each input variable')\n",
    "plt.savefig('ipm_matrix')"
   ]
  },
  {
   "cell_type": "code",
   "execution_count": 146,
   "metadata": {},
   "outputs": [],
   "source": [
    "from sklearn.model_selection import train_test_split\n",
    "train_x, test_x, train_y, test_y = train_test_split(x, y, random_state=0)\n",
    "from sklearn.preprocessing import MinMaxScaler\n",
    "scaler = MinMaxScaler()\n",
    "train_x = scaler.fit_transform(train_x)\n",
    "\n",
    "test_x = scaler.transform(test_x)"
   ]
  },
  {
   "cell_type": "code",
   "execution_count": 150,
   "metadata": {},
   "outputs": [
    {
     "name": "stdout",
     "output_type": "stream",
     "text": [
      "Accuracy of Decision Tree classifier on training set: 1.00\n",
      "Accuracy of Decision Tree classifier on test set: 1.00\n"
     ]
    }
   ],
   "source": [
    "from sklearn.tree import DecisionTreeRegressor\n",
    "clf = DecisionTreeRegressor().fit(train_x, train_y)\n",
    "print('Accuracy of Decision Tree classifier on training set: {:.2f}'\n",
    "     .format(clf.score(train_x, train_y)))\n",
    "print('Accuracy of Decision Tree classifier on test set: {:.2f}'\n",
    "     .format(clf.score(train_x, train_y)))"
   ]
  },
  {
   "cell_type": "code",
   "execution_count": null,
   "metadata": {},
   "outputs": [],
   "source": []
  }
 ],
 "metadata": {
  "kernelspec": {
   "display_name": "Python 3",
   "language": "python",
   "name": "python3"
  },
  "language_info": {
   "codemirror_mode": {
    "name": "ipython",
    "version": 3
   },
   "file_extension": ".py",
   "mimetype": "text/x-python",
   "name": "python",
   "nbconvert_exporter": "python",
   "pygments_lexer": "ipython3",
   "version": "3.7.3"
  }
 },
 "nbformat": 4,
 "nbformat_minor": 4
}
